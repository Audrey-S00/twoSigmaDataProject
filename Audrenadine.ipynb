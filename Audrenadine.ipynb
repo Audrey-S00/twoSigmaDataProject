 # NADINE I DONT HAVE THE AUDRENADINE REPO OR ANY OF THE CODE WE STARTED WITH!!!

######################################
import numpy as np
import pandas as pd
import matplotlib as plt
%matplotlib inline


## Extracted data from ign
data = pd.read_csv('datasets/ign.csv')
data = data.drop('Unnamed: 0', axis=1)

## View data
data.head()
data.columns

data[["score","platform"]].head()

# Data used
data[["score","release_year","release_month","release_day"]].head()

## Converts all our data to integers
data["release_year"].map(lambda x:int(x)).head()
data["release_month"].map(lambda x:int(x)).head()
data["release_day"].map(lambda x:int(x)).head()

## calcTime calculates the amount of time given years, months, days

def calcTime(years, months, days):
    time = days + ((years - 2012) * 365)
    if years == 2012 and months <= 2:  ## Before first leap day
        time += 0
    elif years == 2016 and months > 2:               ## After second leap day
        time += 2
    else:          ## Between leap days 
        time += 1
    if months > 1:
        time += 31
    if months > 2:
        time += 28
    if months > 3:
        time += 31
    if months > 4:
        time += 30
    if months > 5:
        time += 31
    if months > 6:
        time += 30
    if months > 7:
        time += 31
    if months > 8:
        time += 31
    if months > 9:
        time += 30
    if months > 10:
        time += 31
    if months > 11:
        time += 30
    return time
print(calcTime(2012, 1, 1))
print(calcTime(2012, 1, 1))
print(calcTime(2014, 1, 1))
print(calcTime(2015, 1, 1))
print(calcTime(2012, 2, 1))
print(calcTime(2015, 3, 1))

for i in range(1,30):
    print i, calcTime(2012, 3, i)
################################
# STARTED NEW CODE AFTER HERE
##################################

## Places totaltime in days 
release_time =[]
for y,m,d in zip(data["release_year"],data["release_month"],data["release_day"]):
  release_time.append(calcTime(y,m,d))
  


## creates a new 
data['totalTime'] = release_time

## Ploting our graph
plt.figure(figsize=(10, 6))
plt.plot(data["totalTime"], data["score"], "o", markersize=4)
plt.xlabel("Time (days)")
plt.ylabel("satisfaction (out of 10)")
plt.title("Satisfaction versus Time")
plt.grid()

#from cell 15
slope_opt = data["score"].cov(data["totalTime"]) / data["score"].var() 
intercept_opt = data["score"].mean() - slope_opt * data["totalTime"].mean()

print("Optimal slope: {}".format(slope_opt))
print("Optimal intercept: {}".format(intercept_opt))

fig = plt.figure(figsize=(10, 6))
plt.plot(data[""], data["score"], "o", markersize=4)
plt.xlabel("Day")
plt.ylabel("Score")
plt.title("Day vs. Score")
plt.grid()

xvals = np.arange(data['totalTime'].max())
yvals = slope_opt * xvals + intercept_opt
plt.plot(xvals, yvals, color="r")
fig.canvas.draw()

############
def loss(x, y, slope, intercept):
    predictions = x * slope + intercept
    errors = y - predictions
    return np.sum(errors ** 2)
######################
loss = loss(data.Size, data.Price, SLOPE, INTERCEPT)
print(loss)

import statsmodels.api as sm
data["Constant"] = 1
m = sm.OLS(data["score"], data[["totalTime", "Constant"]]).fit()
m.summary()