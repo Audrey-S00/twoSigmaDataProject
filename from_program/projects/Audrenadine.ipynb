{
 "cells": [
  {
   "cell_type": "code",
   "execution_count": 5,
   "metadata": {
    "collapsed": false
   },
   "outputs": [],
   "source": [
    "import numpy as np\n",
    "import matplotlib as plt\n",
    "import pandas as pd\n",
    "%matplotlib inline"
   ]
  },
  {
   "cell_type": "code",
   "execution_count": 7,
   "metadata": {
    "collapsed": false
   },
   "outputs": [],
   "source": [
    "## Extracted data from ign\n",
    "data = pd.read_csv('datasets/ign.csv')\n",
    "data = data.drop('Unnamed: 0', axis=1)"
   ]
  },
  {
   "cell_type": "code",
   "execution_count": 12,
   "metadata": {
    "collapsed": false
   },
   "outputs": [
    {
     "data": {
      "text/plain": [
       "Index([u'score_phrase', u'title', u'url', u'platform', u'score', u'genre',\n",
       "       u'editors_choice', u'release_year', u'release_month', u'release_day'],\n",
       "      dtype='object')"
      ]
     },
     "execution_count": 12,
     "metadata": {},
     "output_type": "execute_result"
    }
   ],
   "source": [
    "## View data\n",
    "data.head()\n",
    "data.columns"
   ]
  },
  {
   "cell_type": "code",
   "execution_count": 17,
   "metadata": {
    "collapsed": false
   },
   "outputs": [
    {
     "data": {
      "text/html": [
       "<div>\n",
       "<table border=\"1\" class=\"dataframe\">\n",
       "  <thead>\n",
       "    <tr style=\"text-align: right;\">\n",
       "      <th></th>\n",
       "      <th>score</th>\n",
       "      <th>platform</th>\n",
       "    </tr>\n",
       "  </thead>\n",
       "  <tbody>\n",
       "    <tr>\n",
       "      <th>0</th>\n",
       "      <td>9.0</td>\n",
       "      <td>PlayStation Vita</td>\n",
       "    </tr>\n",
       "    <tr>\n",
       "      <th>1</th>\n",
       "      <td>9.0</td>\n",
       "      <td>PlayStation Vita</td>\n",
       "    </tr>\n",
       "    <tr>\n",
       "      <th>2</th>\n",
       "      <td>8.5</td>\n",
       "      <td>iPad</td>\n",
       "    </tr>\n",
       "    <tr>\n",
       "      <th>3</th>\n",
       "      <td>8.5</td>\n",
       "      <td>Xbox 360</td>\n",
       "    </tr>\n",
       "    <tr>\n",
       "      <th>4</th>\n",
       "      <td>8.5</td>\n",
       "      <td>PlayStation 3</td>\n",
       "    </tr>\n",
       "  </tbody>\n",
       "</table>\n",
       "</div>"
      ],
      "text/plain": [
       "   score          platform\n",
       "0    9.0  PlayStation Vita\n",
       "1    9.0  PlayStation Vita\n",
       "2    8.5              iPad\n",
       "3    8.5          Xbox 360\n",
       "4    8.5     PlayStation 3"
      ]
     },
     "execution_count": 17,
     "metadata": {},
     "output_type": "execute_result"
    }
   ],
   "source": [
    "data[[\"score\",\"platform\"]].head()"
   ]
  },
  {
   "cell_type": "markdown",
   "metadata": {},
   "source": [
    "# Dataset Games Columns:\n",
    "1. score_phase:\n",
    "2. title\n",
    "3. url\n",
    "4. platform\n",
    "5. score\n",
    "6. genre\n",
    "7. editors_choice\n",
    "8. release_year\n",
    "9. release_month\n",
    "10. release_day"
   ]
  },
  {
   "cell_type": "markdown",
   "metadata": {},
   "source": [
    "# Questions and Hypothesis:\n",
    "1. What is the correlation between the user's satisfaction and the platform used? (\n",
    "\n",
    "-Nadine the bold: Mobile games will have a higher satisfaction rate\n",
    "\n",
    "-Audrey: platforms with better graphics will have a higher satifaction rate\n",
    "2. Has the satisfaction changed in the four years of data collection\n",
    "\n"
   ]
  },
  {
   "cell_type": "markdown",
   "metadata": {},
   "source": [
    "# 2. Has the satisfaction changed in the four years of data collection\n"
   ]
  },
  {
   "cell_type": "code",
   "execution_count": 19,
   "metadata": {
    "collapsed": false
   },
   "outputs": [
    {
     "data": {
      "text/html": [
       "<div>\n",
       "<table border=\"1\" class=\"dataframe\">\n",
       "  <thead>\n",
       "    <tr style=\"text-align: right;\">\n",
       "      <th></th>\n",
       "      <th>score</th>\n",
       "      <th>release_year</th>\n",
       "      <th>release_month</th>\n",
       "      <th>release_day</th>\n",
       "    </tr>\n",
       "  </thead>\n",
       "  <tbody>\n",
       "    <tr>\n",
       "      <th>0</th>\n",
       "      <td>9.0</td>\n",
       "      <td>2012</td>\n",
       "      <td>9</td>\n",
       "      <td>12</td>\n",
       "    </tr>\n",
       "    <tr>\n",
       "      <th>1</th>\n",
       "      <td>9.0</td>\n",
       "      <td>2012</td>\n",
       "      <td>9</td>\n",
       "      <td>12</td>\n",
       "    </tr>\n",
       "    <tr>\n",
       "      <th>2</th>\n",
       "      <td>8.5</td>\n",
       "      <td>2012</td>\n",
       "      <td>9</td>\n",
       "      <td>12</td>\n",
       "    </tr>\n",
       "    <tr>\n",
       "      <th>3</th>\n",
       "      <td>8.5</td>\n",
       "      <td>2012</td>\n",
       "      <td>9</td>\n",
       "      <td>11</td>\n",
       "    </tr>\n",
       "    <tr>\n",
       "      <th>4</th>\n",
       "      <td>8.5</td>\n",
       "      <td>2012</td>\n",
       "      <td>9</td>\n",
       "      <td>11</td>\n",
       "    </tr>\n",
       "  </tbody>\n",
       "</table>\n",
       "</div>"
      ],
      "text/plain": [
       "   score  release_year  release_month  release_day\n",
       "0    9.0          2012              9           12\n",
       "1    9.0          2012              9           12\n",
       "2    8.5          2012              9           12\n",
       "3    8.5          2012              9           11\n",
       "4    8.5          2012              9           11"
      ]
     },
     "execution_count": 19,
     "metadata": {},
     "output_type": "execute_result"
    }
   ],
   "source": [
    "# Data used\n",
    "data[[\"score\",\"release_year\",\"release_month\",\"release_day\"]].head()\n"
   ]
  },
  {
   "cell_type": "code",
   "execution_count": 30,
   "metadata": {
    "collapsed": false
   },
   "outputs": [
    {
     "data": {
      "text/plain": [
       "0    12\n",
       "1    12\n",
       "2    12\n",
       "3    11\n",
       "4    11\n",
       "Name: release_day, dtype: int64"
      ]
     },
     "execution_count": 30,
     "metadata": {},
     "output_type": "execute_result"
    }
   ],
   "source": [
    "## Converts all our data to integers\n",
    "data[\"release_year\"].map(lambda x:int(x)).head()\n",
    "data[\"release_month\"].map(lambda x:int(x)).head()\n",
    "data[\"release_day\"].map(lambda x:int(x)).head()"
   ]
  },
  {
   "cell_type": "code",
   "execution_count": 40,
   "metadata": {
    "collapsed": false
   },
   "outputs": [
    {
     "name": "stdout",
     "output_type": "stream",
     "text": [
      "1\n",
      "1\n",
      "732\n",
      "1097\n",
      "32\n",
      "1156\n"
     ]
    }
   ],
   "source": [
    "## calcTime calculates the amount of time given years, months, days\n",
    "\n",
    "def calcTime(years, months, days):\n",
    "    time = days + ((years - 2012) * 365)\n",
    "    if years == 2012 and months <= 2:  ## Before first leap day\n",
    "        time += 0\n",
    "    elif years == 2016 and months > 2:               ## After second leap day\n",
    "        time += 2\n",
    "    else:          ## Between leap days \n",
    "        time += 1\n",
    "    if months > 1:\n",
    "        time += 31\n",
    "    if months > 2:\n",
    "        time += 28\n",
    "    if months > 3:\n",
    "        time += 31\n",
    "    if months > 4:\n",
    "        time += 30\n",
    "    if months > 5:\n",
    "        time += 31\n",
    "    if months > 6:\n",
    "        time += 30\n",
    "    if months > 7:\n",
    "        time += 31\n",
    "    if months > 8:\n",
    "        time += 31\n",
    "    if months > 9:\n",
    "        time += 30\n",
    "    if months > 10:\n",
    "        time += 31\n",
    "    if months > 11:\n",
    "        time += 30\n",
    "    return time\n",
    "print(calcTime(2012, 1, 1))\n",
    "print(calcTime(2012, 1, 1))\n",
    "print(calcTime(2014, 1, 1))\n",
    "print(calcTime(2015, 1, 1))\n",
    "print(calcTime(2012, 2, 1))\n",
    "print(calcTime(2015, 3, 1))"
   ]
  },
  {
   "cell_type": "code",
   "execution_count": 42,
   "metadata": {
    "collapsed": false
   },
   "outputs": [
    {
     "name": "stdout",
     "output_type": "stream",
     "text": [
      "1 61\n",
      "2 62\n",
      "3 63\n",
      "4 64\n",
      "5 65\n",
      "6 66\n",
      "7 67\n",
      "8 68\n",
      "9 69\n",
      "10 70\n",
      "11 71\n",
      "12 72\n",
      "13 73\n",
      "14 74\n",
      "15 75\n",
      "16 76\n",
      "17 77\n",
      "18 78\n",
      "19 79\n",
      "20 80\n",
      "21 81\n",
      "22 82\n",
      "23 83\n",
      "24 84\n",
      "25 85\n",
      "26 86\n",
      "27 87\n",
      "28 88\n",
      "29 89\n"
     ]
    }
   ],
   "source": [
    "for i in range(1,30):\n",
    "    print i, calcTime(2012, 3, i)"
   ]
  },
  {
   "cell_type": "code",
   "execution_count": 26,
   "metadata": {
    "collapsed": true
   },
   "outputs": [],
   "source": [
    "release_time =[]\n",
    "#for year in data[\"release_year\"]:\n",
    "    "
   ]
  },
  {
   "cell_type": "code",
   "execution_count": 27,
   "metadata": {
    "collapsed": true
   },
   "outputs": [],
   "source": [
    "data.apply?\n"
   ]
  },
  {
   "cell_type": "markdown",
   "metadata": {},
   "source": [
    "Signature: data.apply(func, axis=0, broadcast=False, raw=False, reduce=None, args=(), **kwds)\n",
    "Docstring:\n",
    "Applies function along input axis of DataFrame.\n",
    "\n",
    "Objects passed to functions are Series objects having index\n",
    "either the DataFrame's index (axis=0) or the columns (axis=1).\n",
    "Return type depends on whether passed function aggregates, or the\n",
    "reduce argument if the DataFrame is empty.\n",
    "\n",
    "Parameters\n",
    "----------\n",
    "func : function\n",
    "    Function to apply to each column/row\n",
    "axis : {0 or 'index', 1 or 'columns'}, default 0\n",
    "    * 0 or 'index': apply function to each column\n",
    "    * 1 or 'columns': apply function to each row\n",
    "broadcast : boolean, default False\n",
    "    For aggregation functions, return object of same size with values\n",
    "    propagated\n",
    "raw : boolean, default False\n",
    "    If False, convert each row or column into a Series. If raw=True the\n",
    "    passed function will receive ndarray objects instead. If you are\n",
    "    just applying a NumPy reduction function this will achieve much\n",
    "    better performance\n",
    "reduce : boolean or None, default None\n",
    "    Try to apply reduction procedures. If the DataFrame is empty,\n",
    "    apply will use reduce to determine whether the result should be a\n",
    "    Series or a DataFrame. If reduce is None (the default), apply's\n",
    "    return value will be guessed by calling func an empty Series (note:\n",
    "    while guessing, exceptions raised by func will be ignored). If\n",
    "    reduce is True a Series will always be returned, and if False a\n",
    "    DataFrame will always be returned.\n",
    "args : tuple\n",
    "    Positional arguments to pass to function in addition to the\n",
    "    array/series\n",
    "Additional keyword arguments will be passed as keywords to the function\n",
    "\n",
    "Notes\n",
    "-----\n",
    "In the current implementation apply calls func twice on the\n",
    "first column/row to decide whether it can take a fast or slow\n",
    "code path. This can lead to unexpected behavior if func has\n",
    "side-effects, as they will take effect twice for the first\n",
    "column/row.\n",
    "\n",
    "Examples\n",
    "--------\n",
    ">>> df.apply(numpy.sqrt) # returns DataFrame\n",
    ">>> df.apply(numpy.sum, axis=0) # equiv to df.sum(0)\n",
    ">>> df.apply(numpy.sum, axis=1) # equiv to df.sum(1)\n",
    "\n",
    "See also\n",
    "--------\n",
    "DataFrame.applymap: For elementwise operations\n",
    "\n",
    "Returns\n",
    "-------\n",
    "applied : Series or DataFrame\n",
    "File:      /usr/local/lib/python2.7/dist-packages/pandas/core/frame.py\n",
    "Type:      instancemethod"
   ]
  },
  {
   "cell_type": "code",
   "execution_count": null,
   "metadata": {
    "collapsed": true
   },
   "outputs": [],
   "source": []
  }
 ],
 "metadata": {
  "kernelspec": {
   "display_name": "Python 2",
   "language": "python",
   "name": "python2"
  },
  "language_info": {
   "codemirror_mode": {
    "name": "ipython",
    "version": 2
   },
   "file_extension": ".py",
   "mimetype": "text/x-python",
   "name": "python",
   "nbconvert_exporter": "python",
   "pygments_lexer": "ipython2",
   "version": "2.7.6"
  }
 },
 "nbformat": 4,
 "nbformat_minor": 1
}
