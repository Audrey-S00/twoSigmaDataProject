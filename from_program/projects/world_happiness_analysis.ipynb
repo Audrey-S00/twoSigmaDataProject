{
 "cells": [
  {
   "cell_type": "code",
   "execution_count": null,
   "metadata": {
    "collapsed": false
   },
   "outputs": [],
   "source": [
    "from csv import reader\n",
    "import pandas as pd\n",
    "import json\n",
    "import folium\n",
    "\n",
    "data_2015 = pd.read_csv(\"../datasets/2015.csv\")\n",
    "data_2015 = data_2015.set_index(\"Country\")\n",
    "\n",
    "with open(\"../datasets/countries_geo.json\", \"r\") as f:\n",
    "    j = json.load(f)\n",
    "    for country in j[\"features\"]:\n",
    "        p = country[\"properties\"]\n",
    "        try:\n",
    "            p[\"value\"] = data_2015.loc[p[\"name\"],\"Happiness Score\"]\n",
    "        except:\n",
    "            True\n",
    "    f.close()\n",
    "\n",
    "with open(\"tmpfile\", \"w\") as f2:\n",
    "    json.dump(j, f2)\n",
    "    f2.close()\n"
   ]
  },
  {
   "cell_type": "code",
   "execution_count": null,
   "metadata": {
    "collapsed": false
   },
   "outputs": [],
   "source": [
    "m = folium.Map(location=[0, 0], zoom_start=1)\n",
    "#folium.GeoJson(\"tmpfile\", name=\"geojson\").add_to(m)\n",
    "m.choropleth(\"tmpfile\", data=data_2015, columns=\"Happiness Score\", key_on=\"geojson\", threshold_scale=None, fill_color='YlGn', fill_opacity=0.6, line_color='black', line_weight=1, line_opacity=1, legend_name='', topojson=None, reset=False, highlight=None)"
   ]
  }
 ],
 "metadata": {
  "kernelspec": {
   "display_name": "Python 2",
   "language": "python",
   "name": "python2"
  },
  "language_info": {
   "codemirror_mode": {
    "name": "ipython",
    "version": 2
   },
   "file_extension": ".py",
   "mimetype": "text/x-python",
   "name": "python",
   "nbconvert_exporter": "python",
   "pygments_lexer": "ipython2",
   "version": "2.7.6"
  }
 },
 "nbformat": 4,
 "nbformat_minor": 1
}
